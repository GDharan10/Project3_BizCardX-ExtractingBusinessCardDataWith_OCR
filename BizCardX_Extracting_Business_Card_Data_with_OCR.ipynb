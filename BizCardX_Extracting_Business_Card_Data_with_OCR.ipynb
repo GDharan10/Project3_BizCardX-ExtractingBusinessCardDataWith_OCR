{
  "nbformat": 4,
  "nbformat_minor": 0,
  "metadata": {
    "colab": {
      "provenance": [],
      "include_colab_link": true
    },
    "kernelspec": {
      "name": "python3",
      "display_name": "Python 3"
    },
    "language_info": {
      "name": "python"
    }
  },
  "cells": [
    {
      "cell_type": "markdown",
      "metadata": {
        "id": "view-in-github",
        "colab_type": "text"
      },
      "source": [
        "<a href=\"https://colab.research.google.com/github/GDharan10/Project3_BizCardX-ExtractingBusinessCardDataWith_OCR/blob/main/BizCardX_Extracting_Business_Card_Data_with_OCR.ipynb\" target=\"_parent\"><img src=\"https://colab.research.google.com/assets/colab-badge.svg\" alt=\"Open In Colab\"/></a>"
      ]
    },
    {
      "cell_type": "markdown",
      "source": [
        "# **Installation**"
      ],
      "metadata": {
        "id": "8mLlwSpfLtQY"
      }
    },
    {
      "cell_type": "code",
      "source": [
        "!sudo apt install tesseract-ocr"
      ],
      "metadata": {
        "colab": {
          "base_uri": "https://localhost:8080/"
        },
        "id": "1czOy1XhHNwP",
        "outputId": "b6403aae-5076-4ccc-c097-ef5d23c96263"
      },
      "execution_count": 4,
      "outputs": [
        {
          "output_type": "stream",
          "name": "stdout",
          "text": [
            "Reading package lists... Done\n",
            "Building dependency tree... Done\n",
            "Reading state information... Done\n",
            "The following additional packages will be installed:\n",
            "  tesseract-ocr-eng tesseract-ocr-osd\n",
            "The following NEW packages will be installed:\n",
            "  tesseract-ocr tesseract-ocr-eng tesseract-ocr-osd\n",
            "0 upgraded, 3 newly installed, 0 to remove and 45 not upgraded.\n",
            "Need to get 4,816 kB of archives.\n",
            "After this operation, 15.6 MB of additional disk space will be used.\n",
            "Get:1 http://archive.ubuntu.com/ubuntu jammy/universe amd64 tesseract-ocr-eng all 1:4.00~git30-7274cfa-1.1 [1,591 kB]\n",
            "Get:2 http://archive.ubuntu.com/ubuntu jammy/universe amd64 tesseract-ocr-osd all 1:4.00~git30-7274cfa-1.1 [2,990 kB]\n",
            "Get:3 http://archive.ubuntu.com/ubuntu jammy/universe amd64 tesseract-ocr amd64 4.1.1-2.1build1 [236 kB]\n",
            "Fetched 4,816 kB in 1s (4,319 kB/s)\n",
            "debconf: unable to initialize frontend: Dialog\n",
            "debconf: (No usable dialog-like program is installed, so the dialog based frontend cannot be used. at /usr/share/perl5/Debconf/FrontEnd/Dialog.pm line 78, <> line 3.)\n",
            "debconf: falling back to frontend: Readline\n",
            "debconf: unable to initialize frontend: Readline\n",
            "debconf: (This frontend requires a controlling tty.)\n",
            "debconf: falling back to frontend: Teletype\n",
            "dpkg-preconfigure: unable to re-open stdin: \n",
            "Selecting previously unselected package tesseract-ocr-eng.\n",
            "(Reading database ... 121753 files and directories currently installed.)\n",
            "Preparing to unpack .../tesseract-ocr-eng_1%3a4.00~git30-7274cfa-1.1_all.deb ...\n",
            "Unpacking tesseract-ocr-eng (1:4.00~git30-7274cfa-1.1) ...\n",
            "Selecting previously unselected package tesseract-ocr-osd.\n",
            "Preparing to unpack .../tesseract-ocr-osd_1%3a4.00~git30-7274cfa-1.1_all.deb ...\n",
            "Unpacking tesseract-ocr-osd (1:4.00~git30-7274cfa-1.1) ...\n",
            "Selecting previously unselected package tesseract-ocr.\n",
            "Preparing to unpack .../tesseract-ocr_4.1.1-2.1build1_amd64.deb ...\n",
            "Unpacking tesseract-ocr (4.1.1-2.1build1) ...\n",
            "Setting up tesseract-ocr-eng (1:4.00~git30-7274cfa-1.1) ...\n",
            "Setting up tesseract-ocr-osd (1:4.00~git30-7274cfa-1.1) ...\n",
            "Setting up tesseract-ocr (4.1.1-2.1build1) ...\n",
            "Processing triggers for man-db (2.10.2-1) ...\n"
          ]
        }
      ]
    },
    {
      "cell_type": "code",
      "source": [
        "pip install pytesseract"
      ],
      "metadata": {
        "colab": {
          "base_uri": "https://localhost:8080/"
        },
        "id": "-9SnP-80F1wO",
        "outputId": "555d4092-d580-498f-d31a-589be6c431de"
      },
      "execution_count": 2,
      "outputs": [
        {
          "output_type": "stream",
          "name": "stdout",
          "text": [
            "Collecting pytesseract\n",
            "  Downloading pytesseract-0.3.10-py3-none-any.whl (14 kB)\n",
            "Requirement already satisfied: packaging>=21.3 in /usr/local/lib/python3.10/dist-packages (from pytesseract) (24.0)\n",
            "Requirement already satisfied: Pillow>=8.0.0 in /usr/local/lib/python3.10/dist-packages (from pytesseract) (9.4.0)\n",
            "Installing collected packages: pytesseract\n",
            "Successfully installed pytesseract-0.3.10\n"
          ]
        }
      ]
    },
    {
      "cell_type": "code",
      "source": [
        "pip install easyocr"
      ],
      "metadata": {
        "colab": {
          "base_uri": "https://localhost:8080/"
        },
        "id": "9hBPLl8uLY6n",
        "outputId": "b471d336-56b1-4b60-e62a-72097138282a"
      },
      "execution_count": 3,
      "outputs": [
        {
          "output_type": "stream",
          "name": "stdout",
          "text": [
            "Collecting easyocr\n",
            "  Downloading easyocr-1.7.1-py3-none-any.whl (2.9 MB)\n",
            "\u001b[2K     \u001b[90m━━━━━━━━━━━━━━━━━━━━━━━━━━━━━━━━━━━━━━━━\u001b[0m \u001b[32m2.9/2.9 MB\u001b[0m \u001b[31m9.2 MB/s\u001b[0m eta \u001b[36m0:00:00\u001b[0m\n",
            "\u001b[?25hRequirement already satisfied: torch in /usr/local/lib/python3.10/dist-packages (from easyocr) (2.2.1+cu121)\n",
            "Requirement already satisfied: torchvision>=0.5 in /usr/local/lib/python3.10/dist-packages (from easyocr) (0.17.1+cu121)\n",
            "Requirement already satisfied: opencv-python-headless in /usr/local/lib/python3.10/dist-packages (from easyocr) (4.9.0.80)\n",
            "Requirement already satisfied: scipy in /usr/local/lib/python3.10/dist-packages (from easyocr) (1.11.4)\n",
            "Requirement already satisfied: numpy in /usr/local/lib/python3.10/dist-packages (from easyocr) (1.25.2)\n",
            "Requirement already satisfied: Pillow in /usr/local/lib/python3.10/dist-packages (from easyocr) (9.4.0)\n",
            "Requirement already satisfied: scikit-image in /usr/local/lib/python3.10/dist-packages (from easyocr) (0.19.3)\n",
            "Collecting python-bidi (from easyocr)\n",
            "  Downloading python_bidi-0.4.2-py2.py3-none-any.whl (30 kB)\n",
            "Requirement already satisfied: PyYAML in /usr/local/lib/python3.10/dist-packages (from easyocr) (6.0.1)\n",
            "Requirement already satisfied: Shapely in /usr/local/lib/python3.10/dist-packages (from easyocr) (2.0.3)\n",
            "Collecting pyclipper (from easyocr)\n",
            "  Downloading pyclipper-1.3.0.post5-cp310-cp310-manylinux_2_12_x86_64.manylinux2010_x86_64.whl (908 kB)\n",
            "\u001b[2K     \u001b[90m━━━━━━━━━━━━━━━━━━━━━━━━━━━━━━━━━━━━━━━━\u001b[0m \u001b[32m908.3/908.3 kB\u001b[0m \u001b[31m17.3 MB/s\u001b[0m eta \u001b[36m0:00:00\u001b[0m\n",
            "\u001b[?25hCollecting ninja (from easyocr)\n",
            "  Downloading ninja-1.11.1.1-py2.py3-none-manylinux1_x86_64.manylinux_2_5_x86_64.whl (307 kB)\n",
            "\u001b[2K     \u001b[90m━━━━━━━━━━━━━━━━━━━━━━━━━━━━━━━━━━━━━━━━\u001b[0m \u001b[32m307.2/307.2 kB\u001b[0m \u001b[31m13.6 MB/s\u001b[0m eta \u001b[36m0:00:00\u001b[0m\n",
            "\u001b[?25hRequirement already satisfied: filelock in /usr/local/lib/python3.10/dist-packages (from torch->easyocr) (3.13.3)\n",
            "Requirement already satisfied: typing-extensions>=4.8.0 in /usr/local/lib/python3.10/dist-packages (from torch->easyocr) (4.10.0)\n",
            "Requirement already satisfied: sympy in /usr/local/lib/python3.10/dist-packages (from torch->easyocr) (1.12)\n",
            "Requirement already satisfied: networkx in /usr/local/lib/python3.10/dist-packages (from torch->easyocr) (3.2.1)\n",
            "Requirement already satisfied: jinja2 in /usr/local/lib/python3.10/dist-packages (from torch->easyocr) (3.1.3)\n",
            "Requirement already satisfied: fsspec in /usr/local/lib/python3.10/dist-packages (from torch->easyocr) (2023.6.0)\n",
            "Collecting nvidia-cuda-nvrtc-cu12==12.1.105 (from torch->easyocr)\n",
            "  Downloading nvidia_cuda_nvrtc_cu12-12.1.105-py3-none-manylinux1_x86_64.whl (23.7 MB)\n",
            "\u001b[2K     \u001b[90m━━━━━━━━━━━━━━━━━━━━━━━━━━━━━━━━━━━━━━━━\u001b[0m \u001b[32m23.7/23.7 MB\u001b[0m \u001b[31m46.3 MB/s\u001b[0m eta \u001b[36m0:00:00\u001b[0m\n",
            "\u001b[?25hCollecting nvidia-cuda-runtime-cu12==12.1.105 (from torch->easyocr)\n",
            "  Downloading nvidia_cuda_runtime_cu12-12.1.105-py3-none-manylinux1_x86_64.whl (823 kB)\n",
            "\u001b[2K     \u001b[90m━━━━━━━━━━━━━━━━━━━━━━━━━━━━━━━━━━━━━━━━\u001b[0m \u001b[32m823.6/823.6 kB\u001b[0m \u001b[31m53.7 MB/s\u001b[0m eta \u001b[36m0:00:00\u001b[0m\n",
            "\u001b[?25hCollecting nvidia-cuda-cupti-cu12==12.1.105 (from torch->easyocr)\n",
            "  Downloading nvidia_cuda_cupti_cu12-12.1.105-py3-none-manylinux1_x86_64.whl (14.1 MB)\n",
            "\u001b[2K     \u001b[90m━━━━━━━━━━━━━━━━━━━━━━━━━━━━━━━━━━━━━━━━\u001b[0m \u001b[32m14.1/14.1 MB\u001b[0m \u001b[31m75.2 MB/s\u001b[0m eta \u001b[36m0:00:00\u001b[0m\n",
            "\u001b[?25hCollecting nvidia-cudnn-cu12==8.9.2.26 (from torch->easyocr)\n",
            "  Downloading nvidia_cudnn_cu12-8.9.2.26-py3-none-manylinux1_x86_64.whl (731.7 MB)\n",
            "\u001b[2K     \u001b[90m━━━━━━━━━━━━━━━━━━━━━━━━━━━━━━━━━━━━━━━━\u001b[0m \u001b[32m731.7/731.7 MB\u001b[0m \u001b[31m1.7 MB/s\u001b[0m eta \u001b[36m0:00:00\u001b[0m\n",
            "\u001b[?25hCollecting nvidia-cublas-cu12==12.1.3.1 (from torch->easyocr)\n",
            "  Downloading nvidia_cublas_cu12-12.1.3.1-py3-none-manylinux1_x86_64.whl (410.6 MB)\n",
            "\u001b[2K     \u001b[90m━━━━━━━━━━━━━━━━━━━━━━━━━━━━━━━━━━━━━━━━\u001b[0m \u001b[32m410.6/410.6 MB\u001b[0m \u001b[31m1.7 MB/s\u001b[0m eta \u001b[36m0:00:00\u001b[0m\n",
            "\u001b[?25hCollecting nvidia-cufft-cu12==11.0.2.54 (from torch->easyocr)\n",
            "  Downloading nvidia_cufft_cu12-11.0.2.54-py3-none-manylinux1_x86_64.whl (121.6 MB)\n",
            "\u001b[2K     \u001b[90m━━━━━━━━━━━━━━━━━━━━━━━━━━━━━━━━━━━━━━━━\u001b[0m \u001b[32m121.6/121.6 MB\u001b[0m \u001b[31m8.5 MB/s\u001b[0m eta \u001b[36m0:00:00\u001b[0m\n",
            "\u001b[?25hCollecting nvidia-curand-cu12==10.3.2.106 (from torch->easyocr)\n",
            "  Downloading nvidia_curand_cu12-10.3.2.106-py3-none-manylinux1_x86_64.whl (56.5 MB)\n",
            "\u001b[2K     \u001b[90m━━━━━━━━━━━━━━━━━━━━━━━━━━━━━━━━━━━━━━━━\u001b[0m \u001b[32m56.5/56.5 MB\u001b[0m \u001b[31m11.5 MB/s\u001b[0m eta \u001b[36m0:00:00\u001b[0m\n",
            "\u001b[?25hCollecting nvidia-cusolver-cu12==11.4.5.107 (from torch->easyocr)\n",
            "  Downloading nvidia_cusolver_cu12-11.4.5.107-py3-none-manylinux1_x86_64.whl (124.2 MB)\n",
            "\u001b[2K     \u001b[90m━━━━━━━━━━━━━━━━━━━━━━━━━━━━━━━━━━━━━━━━\u001b[0m \u001b[32m124.2/124.2 MB\u001b[0m \u001b[31m5.9 MB/s\u001b[0m eta \u001b[36m0:00:00\u001b[0m\n",
            "\u001b[?25hCollecting nvidia-cusparse-cu12==12.1.0.106 (from torch->easyocr)\n",
            "  Downloading nvidia_cusparse_cu12-12.1.0.106-py3-none-manylinux1_x86_64.whl (196.0 MB)\n",
            "\u001b[2K     \u001b[90m━━━━━━━━━━━━━━━━━━━━━━━━━━━━━━━━━━━━━━━━\u001b[0m \u001b[32m196.0/196.0 MB\u001b[0m \u001b[31m2.7 MB/s\u001b[0m eta \u001b[36m0:00:00\u001b[0m\n",
            "\u001b[?25hCollecting nvidia-nccl-cu12==2.19.3 (from torch->easyocr)\n",
            "  Downloading nvidia_nccl_cu12-2.19.3-py3-none-manylinux1_x86_64.whl (166.0 MB)\n",
            "\u001b[2K     \u001b[90m━━━━━━━━━━━━━━━━━━━━━━━━━━━━━━━━━━━━━━━━\u001b[0m \u001b[32m166.0/166.0 MB\u001b[0m \u001b[31m7.4 MB/s\u001b[0m eta \u001b[36m0:00:00\u001b[0m\n",
            "\u001b[?25hCollecting nvidia-nvtx-cu12==12.1.105 (from torch->easyocr)\n",
            "  Downloading nvidia_nvtx_cu12-12.1.105-py3-none-manylinux1_x86_64.whl (99 kB)\n",
            "\u001b[2K     \u001b[90m━━━━━━━━━━━━━━━━━━━━━━━━━━━━━━━━━━━━━━━━\u001b[0m \u001b[32m99.1/99.1 kB\u001b[0m \u001b[31m11.4 MB/s\u001b[0m eta \u001b[36m0:00:00\u001b[0m\n",
            "\u001b[?25hRequirement already satisfied: triton==2.2.0 in /usr/local/lib/python3.10/dist-packages (from torch->easyocr) (2.2.0)\n",
            "Collecting nvidia-nvjitlink-cu12 (from nvidia-cusolver-cu12==11.4.5.107->torch->easyocr)\n",
            "  Downloading nvidia_nvjitlink_cu12-12.4.99-py3-none-manylinux2014_x86_64.whl (21.1 MB)\n",
            "\u001b[2K     \u001b[90m━━━━━━━━━━━━━━━━━━━━━━━━━━━━━━━━━━━━━━━━\u001b[0m \u001b[32m21.1/21.1 MB\u001b[0m \u001b[31m63.1 MB/s\u001b[0m eta \u001b[36m0:00:00\u001b[0m\n",
            "\u001b[?25hRequirement already satisfied: six in /usr/local/lib/python3.10/dist-packages (from python-bidi->easyocr) (1.16.0)\n",
            "Requirement already satisfied: imageio>=2.4.1 in /usr/local/lib/python3.10/dist-packages (from scikit-image->easyocr) (2.31.6)\n",
            "Requirement already satisfied: tifffile>=2019.7.26 in /usr/local/lib/python3.10/dist-packages (from scikit-image->easyocr) (2024.2.12)\n",
            "Requirement already satisfied: PyWavelets>=1.1.1 in /usr/local/lib/python3.10/dist-packages (from scikit-image->easyocr) (1.5.0)\n",
            "Requirement already satisfied: packaging>=20.0 in /usr/local/lib/python3.10/dist-packages (from scikit-image->easyocr) (24.0)\n",
            "Requirement already satisfied: MarkupSafe>=2.0 in /usr/local/lib/python3.10/dist-packages (from jinja2->torch->easyocr) (2.1.5)\n",
            "Requirement already satisfied: mpmath>=0.19 in /usr/local/lib/python3.10/dist-packages (from sympy->torch->easyocr) (1.3.0)\n",
            "Installing collected packages: pyclipper, ninja, python-bidi, nvidia-nvtx-cu12, nvidia-nvjitlink-cu12, nvidia-nccl-cu12, nvidia-curand-cu12, nvidia-cufft-cu12, nvidia-cuda-runtime-cu12, nvidia-cuda-nvrtc-cu12, nvidia-cuda-cupti-cu12, nvidia-cublas-cu12, nvidia-cusparse-cu12, nvidia-cudnn-cu12, nvidia-cusolver-cu12, easyocr\n",
            "Successfully installed easyocr-1.7.1 ninja-1.11.1.1 nvidia-cublas-cu12-12.1.3.1 nvidia-cuda-cupti-cu12-12.1.105 nvidia-cuda-nvrtc-cu12-12.1.105 nvidia-cuda-runtime-cu12-12.1.105 nvidia-cudnn-cu12-8.9.2.26 nvidia-cufft-cu12-11.0.2.54 nvidia-curand-cu12-10.3.2.106 nvidia-cusolver-cu12-11.4.5.107 nvidia-cusparse-cu12-12.1.0.106 nvidia-nccl-cu12-2.19.3 nvidia-nvjitlink-cu12-12.4.99 nvidia-nvtx-cu12-12.1.105 pyclipper-1.3.0.post5 python-bidi-0.4.2\n"
          ]
        }
      ]
    },
    {
      "cell_type": "markdown",
      "source": [
        "# **Library**"
      ],
      "metadata": {
        "id": "MTFyxDrTFlbd"
      }
    },
    {
      "cell_type": "code",
      "execution_count": 5,
      "metadata": {
        "id": "dYKm2E-JCmMt"
      },
      "outputs": [],
      "source": [
        "import pandas as pd\n",
        "import numpy as np\n",
        "\n",
        "#Connections\n",
        "from google.colab import drive\n",
        "\n",
        "#Python Imaging Library\n",
        "from PIL import Image\n",
        "\n",
        "import pytesseract\n",
        "import easyocr\n",
        "import re\n"
      ]
    },
    {
      "cell_type": "code",
      "source": [
        "#Google drive\n",
        "drive.mount('/content/drive')"
      ],
      "metadata": {
        "colab": {
          "base_uri": "https://localhost:8080/"
        },
        "id": "eQdYbl-bCt78",
        "outputId": "833ea632-5f85-4da0-bafa-7b816e9e0995"
      },
      "execution_count": 6,
      "outputs": [
        {
          "output_type": "stream",
          "name": "stdout",
          "text": [
            "Mounted at /content/drive\n"
          ]
        }
      ]
    },
    {
      "cell_type": "code",
      "source": [
        "image_path = '/content/drive/My Drive/DTM15/Project/BizCardX: Extracting Business Card Data with OCR/1.png'\n",
        "bizcardx=Image.open(image_path)"
      ],
      "metadata": {
        "id": "zRSRvbBMEJc-"
      },
      "execution_count": 7,
      "outputs": []
    },
    {
      "cell_type": "code",
      "source": [
        "bizcardx"
      ],
      "metadata": {
        "colab": {
          "base_uri": "https://localhost:8080/",
          "height": 607
        },
        "id": "xGPQ7UtlE45m",
        "outputId": "ed3bc341-a1f3-4dd7-a7ea-d0d8c821bcd4"
      },
      "execution_count": null,
      "outputs": [
        {
          "output_type": "execute_result",
          "data": {
            "text/plain": [
              "<PIL.PngImagePlugin.PngImageFile image mode=RGBA size=1004x590>"
            ],
            "image/png": "[encoded data removed]"
          },
          "metadata": {},
          "execution_count": 9
        }
      ]
    },
    {
      "cell_type": "code",
      "source": [
        "bizcardx_info = pytesseract.image_to_string(bizcardx)\n",
        "print(bizcardx_info)"
      ],
      "metadata": {
        "colab": {
          "base_uri": "https://localhost:8080/"
        },
        "id": "VUDuVky2Fgk-",
        "outputId": "329d8cd8-397a-458d-ecc7-d4cd39808719"
      },
      "execution_count": null,
      "outputs": [
        {
          "output_type": "stream",
          "name": "stdout",
          "text": [
            "Selva\n",
            "DATA MANAGER\n",
            "\n",
            "& +123-456-7890\n",
            "+123-456-7891\n",
            "\n",
            "Q www.XYZ1.com\n",
            "~ hello@XYZ1.com\n",
            "\n",
            "9 123 ABC St., Chennai,\n",
            "TamilNadu 600113\n",
            "\n",
            " \n",
            "\f\n"
          ]
        }
      ]
    },
    {
      "cell_type": "code",
      "source": [
        "reader = easyocr.Reader(['en'])\n",
        "result = reader.readtext(image_path)"
      ],
      "metadata": {
        "colab": {
          "base_uri": "https://localhost:8080/"
        },
        "id": "jXreG1nvK_nG",
        "outputId": "d103c906-bcaa-4626-c40d-d1107d12db58"
      },
      "execution_count": null,
      "outputs": [
        {
          "output_type": "stream",
          "name": "stderr",
          "text": [
            "WARNING:easyocr.easyocr:Neither CUDA nor MPS are available - defaulting to CPU. Note: This module is much faster with a GPU.\n",
            "WARNING:easyocr.easyocr:Downloading detection model, please wait. This may take several minutes depending upon your network connection.\n"
          ]
        },
        {
          "output_type": "stream",
          "name": "stdout",
          "text": [
            "Progress: |██████████████████████████████████████████████████| 100.0% Complete"
          ]
        },
        {
          "output_type": "stream",
          "name": "stderr",
          "text": [
            "WARNING:easyocr.easyocr:Downloading recognition model, please wait. This may take several minutes depending upon your network connection.\n"
          ]
        },
        {
          "output_type": "stream",
          "name": "stdout",
          "text": [
            "Progress: |██████████████████████████████████████████████████| 100.0% Complete"
          ]
        }
      ]
    },
    {
      "cell_type": "code",
      "source": [
        "result"
      ],
      "metadata": {
        "colab": {
          "base_uri": "https://localhost:8080/"
        },
        "id": "x2p8moI9MdAm",
        "outputId": "a3bfa205-9275-4949-bf92-3aa8dfe5d91e"
      },
      "execution_count": null,
      "outputs": [
        {
          "output_type": "execute_result",
          "data": {
            "text/plain": [
              "[([[47, 113], [156, 113], [156, 157], [47, 157]], 'Selva', 0.8262410474841979),\n",
              " ([[52, 158], [278, 158], [278, 190], [52, 190]],\n",
              "  'DATA MANAGER',\n",
              "  0.9989140448387313),\n",
              " ([[120, 224], [333, 224], [333, 254], [120, 254]],\n",
              "  '+123-456-7890',\n",
              "  0.5042700230713357),\n",
              " ([[120, 262], [330, 262], [330, 294], [120, 294]],\n",
              "  '+123-456-7891',\n",
              "  0.98714885745927),\n",
              " ([[120, 318], [340, 318], [340, 350], [120, 350]],\n",
              "  'WWW XYZI.com',\n",
              "  0.5777975341163649),\n",
              " ([[119, 355], [359, 355], [359, 391], [119, 391]],\n",
              "  'hello@XYZ1.com',\n",
              "  0.8762188083570278),\n",
              " ([[121, 410], [411, 410], [411, 447], [121, 447]],\n",
              "  '123 ABC St , Chennai;',\n",
              "  0.49302537842785377),\n",
              " ([[725, 388], [908, 388], [908, 463], [725, 463]],\n",
              "  'selva',\n",
              "  0.9999267489747191),\n",
              " ([[119, 445], [379, 445], [379, 481], [119, 481]],\n",
              "  'TamilNadu 600113',\n",
              "  0.9349834186667286),\n",
              " ([[694, 477], [942, 477], [942, 565], [694, 565]],\n",
              "  'digitals',\n",
              "  0.9513099631800208)]"
            ]
          },
          "metadata": {},
          "execution_count": 12
        }
      ]
    },
    {
      "cell_type": "code",
      "source": [
        "details =[]\n",
        "for i in range(len(result)):\n",
        "    details.append(result[i][1])\n",
        "name = []\n",
        "designation = []\n",
        "contact =[]\n",
        "email =[]\n",
        "website = []\n",
        "street =[]\n",
        "city =[]\n",
        "state =[]\n",
        "pincode=[]\n",
        "company =[]"
      ],
      "metadata": {
        "id": "EajT-GeAMoJ-"
      },
      "execution_count": null,
      "outputs": []
    },
    {
      "cell_type": "code",
      "source": [
        "details"
      ],
      "metadata": {
        "colab": {
          "base_uri": "https://localhost:8080/"
        },
        "id": "NfHNy0iiMsr2",
        "outputId": "0ffe2961-adcc-409b-cf78-76cd779721f7"
      },
      "execution_count": null,
      "outputs": [
        {
          "output_type": "execute_result",
          "data": {
            "text/plain": [
              "['Selva',\n",
              " 'DATA MANAGER',\n",
              " '+123-456-7890',\n",
              " '+123-456-7891',\n",
              " 'WWW XYZI.com',\n",
              " 'hello@XYZ1.com',\n",
              " '123 ABC St , Chennai;',\n",
              " 'selva',\n",
              " 'TamilNadu 600113',\n",
              " 'digitals']"
            ]
          },
          "metadata": {},
          "execution_count": 14
        }
      ]
    },
    {
      "cell_type": "code",
      "source": [
        "for i in range(len(details)):\n",
        "    match1 = re.findall('([0-9]+ [A-Z]+ [A-Za-z]+)., ([a-zA-Z]+). ([a-zA-Z]+)',details[i])\n",
        "    match2 = re.findall('([0-9]+ [A-Z]+ [A-Za-z]+)., ([a-zA-Z]+)', details[i])\n",
        "    match3 = re.findall('^[E].+[a-z]',details[i])\n",
        "    match4 = re.findall('([A-Za-z]+) ([0-9]+)',details[i])\n",
        "    match5 = re.findall('([0-9]+ [a-zA-z]+)',details[i])\n",
        "    match6 = re.findall('.com$' , details[i])\n",
        "    match7 = re.findall('([0-9]+)',details[i])\n",
        "    if details[i] == details[0]:\n",
        "        name.append(details[i])\n",
        "    elif details[i] == details[1]:\n",
        "        designation.append(details[i])\n",
        "    elif '-' in details[i]:\n",
        "        contact.append(details[i])\n",
        "    elif '@' in details[i]:\n",
        "        email.append(details[i])\n",
        "    elif \"www \" in details[i].lower() or \"www.\" in details[i].lower():\n",
        "        website.append(details[i])\n",
        "    elif \"WWW\" in details[i]:\n",
        "        website.append(details[i] +\".\" + details[i+1])\n",
        "    elif match6:\n",
        "        pass\n",
        "    elif match1:\n",
        "        street.append(match1[0][0])\n",
        "        city.append(match1[0][1])\n",
        "        state.append(match1[0][2])\n",
        "    elif match2:\n",
        "        street.append(match2[0][0])\n",
        "        city.append(match2[0][1])\n",
        "    elif match3:\n",
        "        city.append(match3[0])\n",
        "    elif match4:\n",
        "        state.append(match4[0][0])\n",
        "        pincode.append(match4[0][1])\n",
        "    elif match5:\n",
        "        street.append(match5[0]+' St,')\n",
        "    elif match7:\n",
        "        pincode.append(match7[0])\n",
        "    else:\n",
        "        company.append(details[i])"
      ],
      "metadata": {
        "id": "cAlrL7eTNX4_"
      },
      "execution_count": null,
      "outputs": []
    },
    {
      "cell_type": "code",
      "source": [
        "print(name, designation, contact, email, website, street, city, state, pincode, company)"
      ],
      "metadata": {
        "colab": {
          "base_uri": "https://localhost:8080/"
        },
        "id": "znn3JHJeppD0",
        "outputId": "0b50791b-80b9-4e6f-c994-f0e2472043f1"
      },
      "execution_count": null,
      "outputs": [
        {
          "output_type": "stream",
          "name": "stdout",
          "text": [
            "['Selva'] ['DATA MANAGER'] ['+123-456-7890', '+123-456-7891'] ['hello@XYZ1.com'] ['WWW XYZI.com'] ['123 ABC St'] ['Chennai'] ['TamilNadu'] ['600113'] ['selva', 'digitals']\n"
          ]
        }
      ]
    },
    {
      "cell_type": "code",
      "source": [
        "# extract the data\n",
        "def extracted_text(picture):\n",
        "    ext_dic = {'Name': [], 'Designation': [], 'Company name': [], 'Contact': [], 'Email': [], 'Website': [],\n",
        "               'Address': [], 'Pincode': []}\n",
        "\n",
        "    ext_dic['Name'].append(result[0])\n",
        "    ext_dic['Designation'].append(result[1])\n",
        "\n",
        "    for m in range(2, len(result)):\n",
        "        if result[m].startswith('+') or (result[m].replace('-', '').isdigit() and '-' in result[m]):\n",
        "            ext_dic['Contact'].append(result[m])\n",
        "\n",
        "        elif '@' in result[m] and '.com' in result[m]:\n",
        "            small = result[m].lower()\n",
        "            ext_dic['Email'].append(small)\n",
        "\n",
        "        elif 'www' in result[m] or 'WWW' in result[m] or 'wwW' in result[m]:\n",
        "            small = result[m].lower()\n",
        "            ext_dic['Website'].append(small)\n",
        "\n",
        "        elif 'TamilNadu' in result[m] or 'Tamil Nadu' in result[m] or result[m].isdigit():\n",
        "            ext_dic['Pincode'].append(result[m])\n",
        "\n",
        "        elif re.match(r'^[A-Za-z]', result[m]):\n",
        "            ext_dic['Company name'].append(result[m])\n",
        "\n",
        "        else:\n",
        "            removed_colon = re.sub(r'[,;]', '', result[m])\n",
        "            ext_dic['Address'].append(removed_colon)\n",
        "\n",
        "    for key, value in ext_dic.items():\n",
        "        if len(value) > 0:\n",
        "            concatenated_string = ' '.join(value)\n",
        "            ext_dic[key] = [concatenated_string]\n",
        "        else:\n",
        "            value = 'NA'\n",
        "            ext_dic[key] = [value]\n",
        "\n",
        "    return ext_dic"
      ],
      "metadata": {
        "id": "SOCg8NCwLWke"
      },
      "execution_count": null,
      "outputs": []
    },
    {
      "cell_type": "code",
      "source": [
        "                # Get data method :\n",
        "\n",
        "                def get_data(text):\n",
        "                    for index, value in enumerate(text):\n",
        "\n",
        "                        # Card Holder\n",
        "                        if index == 0:\n",
        "                            data['card_holder'].append(value)\n",
        "                            if value in x:\n",
        "                                x.remove(value)\n",
        "\n",
        "                                # Designation\n",
        "                        elif index == 1:\n",
        "                            data['designation'].append(value)\n",
        "                            if value in x:\n",
        "                                x.remove(value)\n",
        "\n",
        "                                # Mobile Number\n",
        "                        elif '-' in value:\n",
        "                            data['mobile_number'].append(value)\n",
        "                            if value in x:\n",
        "                                x.remove(value)\n",
        "                            if len(data['mobile_number']) == 2:\n",
        "                                data['mobile_number'] = [','.join(data['mobile_number'])]\n",
        "                                if value in x:\n",
        "                                    x.remove(value)\n",
        "\n",
        "                                    #  Email\n",
        "                        elif '@' in value:\n",
        "                            if len(data['email']) < 1:\n",
        "                                data['email'].append(value)\n",
        "                                if value in x:\n",
        "                                    x.remove(value)\n",
        "\n",
        "                                    # Website URL\n",
        "                        elif value.startswith('www.') or value.startswith('www') or value.startswith('wWW.') or value.startswith(\n",
        "                                'wWW'):\n",
        "                            data['website_url'].append(value)\n",
        "                            if value in x:\n",
        "                                x.remove(value)\n",
        "\n",
        "                        elif \"www \" in value.lower() or \"www.\" in value.lower():\n",
        "                            data[\"website_url\"].append(value)\n",
        "                            if value in x:\n",
        "                                x.remove(value)\n",
        "                        elif \"WWW\" in value:\n",
        "                            data[\"website_url\"] = text[4] + \".\" + text[5]\n",
        "                            if value in x:\n",
        "                                x.remove(value)\n",
        "                                x.remove(text[5])\n",
        "\n",
        "\n",
        "                        # Area\n",
        "                        elif re.findall('^[0-9].+, [a-zA-Z]+', value):\n",
        "                            data[\"area\"].append(value.split(',')[0])\n",
        "                            if value in x:\n",
        "                                x.remove(value)\n",
        "                        elif re.findall('[0-9] [a-zA-Z]+', value):\n",
        "                            data[\"area\"].append(value)\n",
        "                            if value in x:\n",
        "                                x.remove(value)\n",
        "\n",
        "                                # City Name\n",
        "                        match1 = re.findall('.+St , ([a-zA-Z]+).+', value)\n",
        "                        match2 = re.findall('.+St,, ([a-zA-Z]+).+', value)\n",
        "                        match3 = re.findall('^[E].*', value)\n",
        "                        if match1:\n",
        "                            data[\"city\"].append(match1[0])\n",
        "                            if value in x:\n",
        "                                x.remove(value)\n",
        "                        elif match2:\n",
        "                            data[\"city\"].append(match2[0])\n",
        "                            if value in x:\n",
        "                                x.remove(value)\n",
        "                        elif match3:\n",
        "                            data[\"city\"].append(match3[0])\n",
        "                            if value in x:\n",
        "                                x.remove(value)\n",
        "\n",
        "                                # State Name\n",
        "                        state_match = re.findall('[a-zA-Z]{9} +[0-9]', value)\n",
        "                        if state_match:\n",
        "                            data[\"state\"].append(value[:9])\n",
        "                            if value in x:\n",
        "                                x.remove(value)\n",
        "                        elif re.findall('^[0-9].+, ([a-zA-Z]+);', value):\n",
        "                            data[\"state\"].append(value.split()[-1])\n",
        "                            if value in x:\n",
        "                                x.remove(value)\n",
        "                        if len(data[\"state\"]) == 2:\n",
        "                            data[\"state\"].pop(0)\n",
        "                            if value in x:\n",
        "                                x.remove(value)\n",
        "\n",
        "                                # Pincode\n",
        "\n",
        "                        if len(value) >= 6 and value.isdigit():\n",
        "                            data[\"pincode\"].append(value)\n",
        "                            if value in x:\n",
        "                                x.remove(value)\n",
        "                        elif re.findall('[a-zA-Z]{9} +[0-9]', value):\n",
        "                            data[\"pincode\"].append(value[10:])\n",
        "                            if value in x:\n",
        "                                x.remove(value)"
      ],
      "metadata": {
        "id": "Wnjklx1HLYd1"
      },
      "execution_count": null,
      "outputs": []
    },
    {
      "cell_type": "code",
      "source": [
        "import easyocr\n",
        "from PIL import Image\n",
        "import io\n",
        "import re\n",
        "import pandas as pd"
      ],
      "metadata": {
        "id": "_X1c05CwIVm5"
      },
      "execution_count": null,
      "outputs": []
    },
    {
      "cell_type": "code",
      "source": [
        "reader = easyocr.Reader(['en'], gpu=False)"
      ],
      "metadata": {
        "id": "eRSbBhwIIxJL"
      },
      "execution_count": null,
      "outputs": []
    },
    {
      "cell_type": "code",
      "source": [
        "image_path = '/content/drive/My Drive/DTM15/Project/BizCardX: Extracting Business Card Data with OCR/2.png'\n",
        "image_data = reader.readtext(image_path, detail = 0)\n",
        "# Load the image\n",
        "image = Image.open(image_path)\n",
        "# Convert RGBA image to RGB\n",
        "image = image.convert('RGB')"
      ],
      "metadata": {
        "id": "jhSRj53OHspQ"
      },
      "execution_count": 64,
      "outputs": []
    },
    {
      "cell_type": "code",
      "source": [
        "# Convert the image to binary data\n",
        "def img_to_binary(image):\n",
        "    image_binary = io.BytesIO()\n",
        "    image.save(image_binary, format='JPEG')\n",
        "    image_binary = image_binary.getvalue()\n",
        "    return image_binary"
      ],
      "metadata": {
        "id": "26hb_TbdHvR5"
      },
      "execution_count": 14,
      "outputs": []
    },
    {
      "cell_type": "code",
      "source": [
        "def extracted_text(details):\n",
        "    data = {\n",
        "        \"name\": [],\n",
        "        \"designation\": [],\n",
        "        \"contact\": [],\n",
        "        \"email\": [],\n",
        "        \"website\": [],\n",
        "        \"street\": [],\n",
        "        \"city\": [],\n",
        "        \"state\": [],\n",
        "        \"pincode\": [],\n",
        "        \"company\": []\n",
        "    }\n",
        "\n",
        "    for i in range(len(details)):\n",
        "        match1 = re.findall('([0-9]+ [A-Z]+ [A-Za-z]+)., ([a-zA-Z]+). ([a-zA-Z]+)', details[i])\n",
        "        match2 = re.findall('([0-9]+ [A-Z]+ [A-Za-z]+)., ([a-zA-Z]+)', details[i])\n",
        "        match3 = re.findall('^[E].+[a-z]', details[i])\n",
        "        match4 = re.findall('([A-Za-z]+) ([0-9]+)', details[i])\n",
        "        match5 = re.findall('([0-9]+ [a-zA-z]+)', details[i])\n",
        "        match6 = re.findall('.com$', details[i])\n",
        "        match7 = re.findall('([0-9]+)', details[i])\n",
        "        if i == 0:\n",
        "            data[\"name\"].append(details[i])\n",
        "        elif i == 1:\n",
        "            data[\"designation\"].append(details[i])\n",
        "        elif '-' in details[i]:\n",
        "            data[\"contact\"].append(details[i])\n",
        "        elif '@' in details[i]:\n",
        "            data[\"email\"].append(details[i])\n",
        "        elif \"www \" in details[i].lower() or \"www.\" in details[i].lower():\n",
        "            data[\"website\"].append(details[i])\n",
        "        elif \"WWW\" in details[i]:\n",
        "            data[\"website\"].append(details[i] + \".\" + details[i+1])\n",
        "        elif match6:\n",
        "            pass\n",
        "        elif match1:\n",
        "            data[\"street\"].append(match1[0][0])\n",
        "            data[\"city\"].append(match1[0][1])\n",
        "            data[\"state\"].append(match1[0][2])\n",
        "        elif match2:\n",
        "            data[\"street\"].append(match2[0][0])\n",
        "            data[\"city\"].append(match2[0][1])\n",
        "        elif match3:\n",
        "            data[\"city\"].append(match3[0])\n",
        "        elif match4:\n",
        "            data[\"state\"].append(match4[0][0])\n",
        "            data[\"pincode\"].append(match4[0][1])\n",
        "        elif match5:\n",
        "            data[\"street\"].append(match5[0] + ' St,')\n",
        "        elif match7:\n",
        "            data[\"pincode\"].append(match7[0])\n",
        "        else:\n",
        "            data[\"company\"].append(details[i])\n",
        "\n",
        "    data[\"contact\"] = [\" & \".join(data[\"contact\"])]\n",
        "    # Join company names with comma and space\n",
        "    data[\"company\"] = [\" \".join(data[\"company\"])]\n",
        "    return data"
      ],
      "metadata": {
        "id": "bi7XzJilHAbx"
      },
      "execution_count": 63,
      "outputs": []
    },
    {
      "cell_type": "code",
      "source": [
        "data = extracted_text(image_data)\n",
        "data"
      ],
      "metadata": {
        "colab": {
          "base_uri": "https://localhost:8080/"
        },
        "id": "bl3ndJ9cHFjQ",
        "outputId": "530772dd-6200-4f33-c646-3e48746d1441"
      },
      "execution_count": 65,
      "outputs": [
        {
          "output_type": "execute_result",
          "data": {
            "text/plain": [
              "{'name': ['Amit kumar'],\n",
              " 'designation': ['CEO & FOUNDER'],\n",
              " 'contact': ['123-456-7569'],\n",
              " 'email': ['hello@global.com'],\n",
              " 'website': ['WWW.global.com'],\n",
              " 'street': ['123 global St,'],\n",
              " 'city': ['Erode'],\n",
              " 'state': ['TamilNadu'],\n",
              " 'pincode': ['600115'],\n",
              " 'company': ['GLOBAL INSURANCE St ,']}"
            ]
          },
          "metadata": {},
          "execution_count": 65
        }
      ]
    },
    {
      "cell_type": "code",
      "source": [
        "import pandas as pd\n",
        "df = pd.DataFrame(data)\n",
        "df"
      ],
      "metadata": {
        "colab": {
          "base_uri": "https://localhost:8080/",
          "height": 89
        },
        "id": "fwlm6v0tHHni",
        "outputId": "2ba28846-05ac-46f8-9226-267b3d7e70a5"
      },
      "execution_count": 46,
      "outputs": [
        {
          "output_type": "execute_result",
          "data": {
            "text/plain": [
              "    name   designation                        contact           email  \\\n",
              "0  Selva  DATA MANAGER  +123-456-7890 & +123-456-7891  hello@XYZ1.com   \n",
              "\n",
              "        website      street     city      state pincode         company  \n",
              "0  WWW XYZI.com  123 ABC St  Chennai  TamilNadu  600113  selva digitals  "
            ],
            "text/html": [
              "\n",
              "  <div id=\"df-7f8c9c6b-7723-493e-947a-7ff3ceeb5c63\" class=\"colab-df-container\">\n",
              "    <div>\n",
              "<style scoped>\n",
              "    .dataframe tbody tr th:only-of-type {\n",
              "        vertical-align: middle;\n",
              "    }\n",
              "\n",
              "    .dataframe tbody tr th {\n",
              "        vertical-align: top;\n",
              "    }\n",
              "\n",
              "    .dataframe thead th {\n",
              "        text-align: right;\n",
              "    }\n",
              "</style>\n",
              "<table border=\"1\" class=\"dataframe\">\n",
              "  <thead>\n",
              "    <tr style=\"text-align: right;\">\n",
              "      <th></th>\n",
              "      <th>name</th>\n",
              "      <th>designation</th>\n",
              "      <th>contact</th>\n",
              "      <th>email</th>\n",
              "      <th>website</th>\n",
              "      <th>street</th>\n",
              "      <th>city</th>\n",
              "      <th>state</th>\n",
              "      <th>pincode</th>\n",
              "      <th>company</th>\n",
              "    </tr>\n",
              "  </thead>\n",
              "  <tbody>\n",
              "    <tr>\n",
              "      <th>0</th>\n",
              "      <td>Selva</td>\n",
              "      <td>DATA MANAGER</td>\n",
              "      <td>+123-456-7890 &amp; +123-456-7891</td>\n",
              "      <td>hello@XYZ1.com</td>\n",
              "      <td>WWW XYZI.com</td>\n",
              "      <td>123 ABC St</td>\n",
              "      <td>Chennai</td>\n",
              "      <td>TamilNadu</td>\n",
              "      <td>600113</td>\n",
              "      <td>selva digitals</td>\n",
              "    </tr>\n",
              "  </tbody>\n",
              "</table>\n",
              "</div>\n",
              "    <div class=\"colab-df-buttons\">\n",
              "\n",
              "  <div class=\"colab-df-container\">\n",
              "    <button class=\"colab-df-convert\" onclick=\"convertToInteractive('df-7f8c9c6b-7723-493e-947a-7ff3ceeb5c63')\"\n",
              "            title=\"Convert this dataframe to an interactive table.\"\n",
              "            style=\"display:none;\">\n",
              "\n",
              "  <svg xmlns=\"http://www.w3.org/2000/svg\" height=\"24px\" viewBox=\"0 -960 960 960\">\n",
              "    <path d=\"M120-120v-720h720v720H120Zm60-500h600v-160H180v160Zm220 220h160v-160H400v160Zm0 220h160v-160H400v160ZM180-400h160v-160H180v160Zm440 0h160v-160H620v160ZM180-180h160v-160H180v160Zm440 0h160v-160H620v160Z\"/>\n",
              "  </svg>\n",
              "    </button>\n",
              "\n",
              "  <style>\n",
              "    .colab-df-container {\n",
              "      display:flex;\n",
              "      gap: 12px;\n",
              "    }\n",
              "\n",
              "    .colab-df-convert {\n",
              "      background-color: #E8F0FE;\n",
              "      border: none;\n",
              "      border-radius: 50%;\n",
              "      cursor: pointer;\n",
              "      display: none;\n",
              "      fill: #1967D2;\n",
              "      height: 32px;\n",
              "      padding: 0 0 0 0;\n",
              "      width: 32px;\n",
              "    }\n",
              "\n",
              "    .colab-df-convert:hover {\n",
              "      background-color: #E2EBFA;\n",
              "      box-shadow: 0px 1px 2px rgba(60, 64, 67, 0.3), 0px 1px 3px 1px rgba(60, 64, 67, 0.15);\n",
              "      fill: #174EA6;\n",
              "    }\n",
              "\n",
              "    .colab-df-buttons div {\n",
              "      margin-bottom: 4px;\n",
              "    }\n",
              "\n",
              "    [theme=dark] .colab-df-convert {\n",
              "      background-color: #3B4455;\n",
              "      fill: #D2E3FC;\n",
              "    }\n",
              "\n",
              "    [theme=dark] .colab-df-convert:hover {\n",
              "      background-color: #434B5C;\n",
              "      box-shadow: 0px 1px 3px 1px rgba(0, 0, 0, 0.15);\n",
              "      filter: drop-shadow(0px 1px 2px rgba(0, 0, 0, 0.3));\n",
              "      fill: #FFFFFF;\n",
              "    }\n",
              "  </style>\n",
              "\n",
              "    <script>\n",
              "      const buttonEl =\n",
              "        document.querySelector('#df-7f8c9c6b-7723-493e-947a-7ff3ceeb5c63 button.colab-df-convert');\n",
              "      buttonEl.style.display =\n",
              "        google.colab.kernel.accessAllowed ? 'block' : 'none';\n",
              "\n",
              "      async function convertToInteractive(key) {\n",
              "        const element = document.querySelector('#df-7f8c9c6b-7723-493e-947a-7ff3ceeb5c63');\n",
              "        const dataTable =\n",
              "          await google.colab.kernel.invokeFunction('convertToInteractive',\n",
              "                                                    [key], {});\n",
              "        if (!dataTable) return;\n",
              "\n",
              "        const docLinkHtml = 'Like what you see? Visit the ' +\n",
              "          '<a target=\"_blank\" href=https://colab.research.google.com/notebooks/data_table.ipynb>data table notebook</a>'\n",
              "          + ' to learn more about interactive tables.';\n",
              "        element.innerHTML = '';\n",
              "        dataTable['output_type'] = 'display_data';\n",
              "        await google.colab.output.renderOutput(dataTable, element);\n",
              "        const docLink = document.createElement('div');\n",
              "        docLink.innerHTML = docLinkHtml;\n",
              "        element.appendChild(docLink);\n",
              "      }\n",
              "    </script>\n",
              "  </div>\n",
              "\n",
              "\n",
              "  <div id=\"id_ff47c71f-6965-42cf-af97-1eca9ebe1bf1\">\n",
              "    <style>\n",
              "      .colab-df-generate {\n",
              "        background-color: #E8F0FE;\n",
              "        border: none;\n",
              "        border-radius: 50%;\n",
              "        cursor: pointer;\n",
              "        display: none;\n",
              "        fill: #1967D2;\n",
              "        height: 32px;\n",
              "        padding: 0 0 0 0;\n",
              "        width: 32px;\n",
              "      }\n",
              "\n",
              "      .colab-df-generate:hover {\n",
              "        background-color: #E2EBFA;\n",
              "        box-shadow: 0px 1px 2px rgba(60, 64, 67, 0.3), 0px 1px 3px 1px rgba(60, 64, 67, 0.15);\n",
              "        fill: #174EA6;\n",
              "      }\n",
              "\n",
              "      [theme=dark] .colab-df-generate {\n",
              "        background-color: #3B4455;\n",
              "        fill: #D2E3FC;\n",
              "      }\n",
              "\n",
              "      [theme=dark] .colab-df-generate:hover {\n",
              "        background-color: #434B5C;\n",
              "        box-shadow: 0px 1px 3px 1px rgba(0, 0, 0, 0.15);\n",
              "        filter: drop-shadow(0px 1px 2px rgba(0, 0, 0, 0.3));\n",
              "        fill: #FFFFFF;\n",
              "      }\n",
              "    </style>\n",
              "    <button class=\"colab-df-generate\" onclick=\"generateWithVariable('df')\"\n",
              "            title=\"Generate code using this dataframe.\"\n",
              "            style=\"display:none;\">\n",
              "\n",
              "  <svg xmlns=\"http://www.w3.org/2000/svg\" height=\"24px\"viewBox=\"0 0 24 24\"\n",
              "       width=\"24px\">\n",
              "    <path d=\"M7,19H8.4L18.45,9,17,7.55,7,17.6ZM5,21V16.75L18.45,3.32a2,2,0,0,1,2.83,0l1.4,1.43a1.91,1.91,0,0,1,.58,1.4,1.91,1.91,0,0,1-.58,1.4L9.25,21ZM18.45,9,17,7.55Zm-12,3A5.31,5.31,0,0,0,4.9,8.1,5.31,5.31,0,0,0,1,6.5,5.31,5.31,0,0,0,4.9,4.9,5.31,5.31,0,0,0,6.5,1,5.31,5.31,0,0,0,8.1,4.9,5.31,5.31,0,0,0,12,6.5,5.46,5.46,0,0,0,6.5,12Z\"/>\n",
              "  </svg>\n",
              "    </button>\n",
              "    <script>\n",
              "      (() => {\n",
              "      const buttonEl =\n",
              "        document.querySelector('#id_ff47c71f-6965-42cf-af97-1eca9ebe1bf1 button.colab-df-generate');\n",
              "      buttonEl.style.display =\n",
              "        google.colab.kernel.accessAllowed ? 'block' : 'none';\n",
              "\n",
              "      buttonEl.onclick = () => {\n",
              "        google.colab.notebook.generateWithVariable('df');\n",
              "      }\n",
              "      })();\n",
              "    </script>\n",
              "  </div>\n",
              "\n",
              "    </div>\n",
              "  </div>\n"
            ],
            "application/vnd.google.colaboratory.intrinsic+json": {
              "type": "dataframe",
              "variable_name": "df",
              "summary": "{\n  \"name\": \"df\",\n  \"rows\": 1,\n  \"fields\": [\n    {\n      \"column\": \"name\",\n      \"properties\": {\n        \"dtype\": \"string\",\n        \"num_unique_values\": 1,\n        \"samples\": [\n          \"Selva\"\n        ],\n        \"semantic_type\": \"\",\n        \"description\": \"\"\n      }\n    },\n    {\n      \"column\": \"designation\",\n      \"properties\": {\n        \"dtype\": \"string\",\n        \"num_unique_values\": 1,\n        \"samples\": [\n          \"DATA MANAGER\"\n        ],\n        \"semantic_type\": \"\",\n        \"description\": \"\"\n      }\n    },\n    {\n      \"column\": \"contact\",\n      \"properties\": {\n        \"dtype\": \"string\",\n        \"num_unique_values\": 1,\n        \"samples\": [\n          \"+123-456-7890 & +123-456-7891\"\n        ],\n        \"semantic_type\": \"\",\n        \"description\": \"\"\n      }\n    },\n    {\n      \"column\": \"email\",\n      \"properties\": {\n        \"dtype\": \"string\",\n        \"num_unique_values\": 1,\n        \"samples\": [\n          \"hello@XYZ1.com\"\n        ],\n        \"semantic_type\": \"\",\n        \"description\": \"\"\n      }\n    },\n    {\n      \"column\": \"website\",\n      \"properties\": {\n        \"dtype\": \"string\",\n        \"num_unique_values\": 1,\n        \"samples\": [\n          \"WWW XYZI.com\"\n        ],\n        \"semantic_type\": \"\",\n        \"description\": \"\"\n      }\n    },\n    {\n      \"column\": \"street\",\n      \"properties\": {\n        \"dtype\": \"string\",\n        \"num_unique_values\": 1,\n        \"samples\": [\n          \"123 ABC St\"\n        ],\n        \"semantic_type\": \"\",\n        \"description\": \"\"\n      }\n    },\n    {\n      \"column\": \"city\",\n      \"properties\": {\n        \"dtype\": \"string\",\n        \"num_unique_values\": 1,\n        \"samples\": [\n          \"Chennai\"\n        ],\n        \"semantic_type\": \"\",\n        \"description\": \"\"\n      }\n    },\n    {\n      \"column\": \"state\",\n      \"properties\": {\n        \"dtype\": \"string\",\n        \"num_unique_values\": 1,\n        \"samples\": [\n          \"TamilNadu\"\n        ],\n        \"semantic_type\": \"\",\n        \"description\": \"\"\n      }\n    },\n    {\n      \"column\": \"pincode\",\n      \"properties\": {\n        \"dtype\": \"object\",\n        \"num_unique_values\": 1,\n        \"samples\": [\n          \"600113\"\n        ],\n        \"semantic_type\": \"\",\n        \"description\": \"\"\n      }\n    },\n    {\n      \"column\": \"company\",\n      \"properties\": {\n        \"dtype\": \"string\",\n        \"num_unique_values\": 1,\n        \"samples\": [\n          \"selva digitals\"\n        ],\n        \"semantic_type\": \"\",\n        \"description\": \"\"\n      }\n    }\n  ]\n}"
            }
          },
          "metadata": {},
          "execution_count": 46
        }
      ]
    },
    {
      "cell_type": "code",
      "source": [
        "df = df.append(data, ignore_index=True)"
      ],
      "metadata": {
        "colab": {
          "base_uri": "https://localhost:8080/"
        },
        "id": "VkYmOyM7M__c",
        "outputId": "9e93bdf3-2ff6-4019-b64c-3299e2358664"
      },
      "execution_count": 66,
      "outputs": [
        {
          "output_type": "stream",
          "name": "stderr",
          "text": [
            "<ipython-input-66-142fb0726777>:1: FutureWarning: The frame.append method is deprecated and will be removed from pandas in a future version. Use pandas.concat instead.\n",
            "  df = df.append(data, ignore_index=True)\n"
          ]
        }
      ]
    },
    {
      "cell_type": "code",
      "source": [
        "df"
      ],
      "metadata": {
        "colab": {
          "base_uri": "https://localhost:8080/",
          "height": 238
        },
        "id": "ntI4BngdMzqK",
        "outputId": "9c7ae9b7-beac-4e1c-ab7c-4181cc97927b"
      },
      "execution_count": 67,
      "outputs": [
        {
          "output_type": "execute_result",
          "data": {
            "text/plain": [
              "           name            designation                        contact  \\\n",
              "0         Selva           DATA MANAGER  +123-456-7890 & +123-456-7891   \n",
              "1  [Amit kumar]        [CEO & FOUNDER]                 [123-456-7569]   \n",
              "2    [KARTHICK]      [General Manager]                [+123-456-7890]   \n",
              "3     [REVANTH]  [Marketing Executive]                 [+91-456-1234]   \n",
              "4    [SANTHOSH]    [Technical Manager]                [+123-456-1234]   \n",
              "5  [Amit kumar]        [CEO & FOUNDER]                 [123-456-7569]   \n",
              "\n",
              "                   email              website            street        city  \\\n",
              "0         hello@XYZ1.com         WWW XYZI.com        123 ABC St     Chennai   \n",
              "1     [hello@global.com]     [WWW.global.com]  [123 global St,]     [Erode]   \n",
              "2   [hello@Borcelle.com]   [www Borcelle.com]      [123 ABC St]     [Salem]   \n",
              "3  [hello@CHRISTMAS.com]  [wWW.CHRISTMAS.com]      [123 ABC St]  [HYDRABAD]   \n",
              "4        [hello@Sun.com]         [www.Suncom]      [123 ABC St]   [Tirupur]   \n",
              "5     [hello@global.com]     [WWW.global.com]  [123 global St,]     [Erode]   \n",
              "\n",
              "         state    pincode                             company  \n",
              "0    TamilNadu     600113                      selva digitals  \n",
              "1  [TamilNadu]   [600115]  [global.com GLOBAL INSURANCE St ,]  \n",
              "2  [TamilNadu]  [6004513]                 [BORCELLE AIRLINES]  \n",
              "3  [TamilNadu]   [600001]                 [Family Restaurant]  \n",
              "4  [TamilNadu]   [641603]                   [Sun Electricals]  \n",
              "5  [TamilNadu]   [600115]             [GLOBAL INSURANCE St ,]  "
            ],
            "text/html": [
              "\n",
              "  <div id=\"df-a94f85c4-f2a3-467c-bdea-38b48eb20eee\" class=\"colab-df-container\">\n",
              "    <div>\n",
              "<style scoped>\n",
              "    .dataframe tbody tr th:only-of-type {\n",
              "        vertical-align: middle;\n",
              "    }\n",
              "\n",
              "    .dataframe tbody tr th {\n",
              "        vertical-align: top;\n",
              "    }\n",
              "\n",
              "    .dataframe thead th {\n",
              "        text-align: right;\n",
              "    }\n",
              "</style>\n",
              "<table border=\"1\" class=\"dataframe\">\n",
              "  <thead>\n",
              "    <tr style=\"text-align: right;\">\n",
              "      <th></th>\n",
              "      <th>name</th>\n",
              "      <th>designation</th>\n",
              "      <th>contact</th>\n",
              "      <th>email</th>\n",
              "      <th>website</th>\n",
              "      <th>street</th>\n",
              "      <th>city</th>\n",
              "      <th>state</th>\n",
              "      <th>pincode</th>\n",
              "      <th>company</th>\n",
              "    </tr>\n",
              "  </thead>\n",
              "  <tbody>\n",
              "    <tr>\n",
              "      <th>0</th>\n",
              "      <td>Selva</td>\n",
              "      <td>DATA MANAGER</td>\n",
              "      <td>+123-456-7890 &amp; +123-456-7891</td>\n",
              "      <td>hello@XYZ1.com</td>\n",
              "      <td>WWW XYZI.com</td>\n",
              "      <td>123 ABC St</td>\n",
              "      <td>Chennai</td>\n",
              "      <td>TamilNadu</td>\n",
              "      <td>600113</td>\n",
              "      <td>selva digitals</td>\n",
              "    </tr>\n",
              "    <tr>\n",
              "      <th>1</th>\n",
              "      <td>[Amit kumar]</td>\n",
              "      <td>[CEO &amp; FOUNDER]</td>\n",
              "      <td>[123-456-7569]</td>\n",
              "      <td>[hello@global.com]</td>\n",
              "      <td>[WWW.global.com]</td>\n",
              "      <td>[123 global St,]</td>\n",
              "      <td>[Erode]</td>\n",
              "      <td>[TamilNadu]</td>\n",
              "      <td>[600115]</td>\n",
              "      <td>[global.com GLOBAL INSURANCE St ,]</td>\n",
              "    </tr>\n",
              "    <tr>\n",
              "      <th>2</th>\n",
              "      <td>[KARTHICK]</td>\n",
              "      <td>[General Manager]</td>\n",
              "      <td>[+123-456-7890]</td>\n",
              "      <td>[hello@Borcelle.com]</td>\n",
              "      <td>[www Borcelle.com]</td>\n",
              "      <td>[123 ABC St]</td>\n",
              "      <td>[Salem]</td>\n",
              "      <td>[TamilNadu]</td>\n",
              "      <td>[6004513]</td>\n",
              "      <td>[BORCELLE AIRLINES]</td>\n",
              "    </tr>\n",
              "    <tr>\n",
              "      <th>3</th>\n",
              "      <td>[REVANTH]</td>\n",
              "      <td>[Marketing Executive]</td>\n",
              "      <td>[+91-456-1234]</td>\n",
              "      <td>[hello@CHRISTMAS.com]</td>\n",
              "      <td>[wWW.CHRISTMAS.com]</td>\n",
              "      <td>[123 ABC St]</td>\n",
              "      <td>[HYDRABAD]</td>\n",
              "      <td>[TamilNadu]</td>\n",
              "      <td>[600001]</td>\n",
              "      <td>[Family Restaurant]</td>\n",
              "    </tr>\n",
              "    <tr>\n",
              "      <th>4</th>\n",
              "      <td>[SANTHOSH]</td>\n",
              "      <td>[Technical Manager]</td>\n",
              "      <td>[+123-456-1234]</td>\n",
              "      <td>[hello@Sun.com]</td>\n",
              "      <td>[www.Suncom]</td>\n",
              "      <td>[123 ABC St]</td>\n",
              "      <td>[Tirupur]</td>\n",
              "      <td>[TamilNadu]</td>\n",
              "      <td>[641603]</td>\n",
              "      <td>[Sun Electricals]</td>\n",
              "    </tr>\n",
              "    <tr>\n",
              "      <th>5</th>\n",
              "      <td>[Amit kumar]</td>\n",
              "      <td>[CEO &amp; FOUNDER]</td>\n",
              "      <td>[123-456-7569]</td>\n",
              "      <td>[hello@global.com]</td>\n",
              "      <td>[WWW.global.com]</td>\n",
              "      <td>[123 global St,]</td>\n",
              "      <td>[Erode]</td>\n",
              "      <td>[TamilNadu]</td>\n",
              "      <td>[600115]</td>\n",
              "      <td>[GLOBAL INSURANCE St ,]</td>\n",
              "    </tr>\n",
              "  </tbody>\n",
              "</table>\n",
              "</div>\n",
              "    <div class=\"colab-df-buttons\">\n",
              "\n",
              "  <div class=\"colab-df-container\">\n",
              "    <button class=\"colab-df-convert\" onclick=\"convertToInteractive('df-a94f85c4-f2a3-467c-bdea-38b48eb20eee')\"\n",
              "            title=\"Convert this dataframe to an interactive table.\"\n",
              "            style=\"display:none;\">\n",
              "\n",
              "  <svg xmlns=\"http://www.w3.org/2000/svg\" height=\"24px\" viewBox=\"0 -960 960 960\">\n",
              "    <path d=\"M120-120v-720h720v720H120Zm60-500h600v-160H180v160Zm220 220h160v-160H400v160Zm0 220h160v-160H400v160ZM180-400h160v-160H180v160Zm440 0h160v-160H620v160ZM180-180h160v-160H180v160Zm440 0h160v-160H620v160Z\"/>\n",
              "  </svg>\n",
              "    </button>\n",
              "\n",
              "  <style>\n",
              "    .colab-df-container {\n",
              "      display:flex;\n",
              "      gap: 12px;\n",
              "    }\n",
              "\n",
              "    .colab-df-convert {\n",
              "      background-color: #E8F0FE;\n",
              "      border: none;\n",
              "      border-radius: 50%;\n",
              "      cursor: pointer;\n",
              "      display: none;\n",
              "      fill: #1967D2;\n",
              "      height: 32px;\n",
              "      padding: 0 0 0 0;\n",
              "      width: 32px;\n",
              "    }\n",
              "\n",
              "    .colab-df-convert:hover {\n",
              "      background-color: #E2EBFA;\n",
              "      box-shadow: 0px 1px 2px rgba(60, 64, 67, 0.3), 0px 1px 3px 1px rgba(60, 64, 67, 0.15);\n",
              "      fill: #174EA6;\n",
              "    }\n",
              "\n",
              "    .colab-df-buttons div {\n",
              "      margin-bottom: 4px;\n",
              "    }\n",
              "\n",
              "    [theme=dark] .colab-df-convert {\n",
              "      background-color: #3B4455;\n",
              "      fill: #D2E3FC;\n",
              "    }\n",
              "\n",
              "    [theme=dark] .colab-df-convert:hover {\n",
              "      background-color: #434B5C;\n",
              "      box-shadow: 0px 1px 3px 1px rgba(0, 0, 0, 0.15);\n",
              "      filter: drop-shadow(0px 1px 2px rgba(0, 0, 0, 0.3));\n",
              "      fill: #FFFFFF;\n",
              "    }\n",
              "  </style>\n",
              "\n",
              "    <script>\n",
              "      const buttonEl =\n",
              "        document.querySelector('#df-a94f85c4-f2a3-467c-bdea-38b48eb20eee button.colab-df-convert');\n",
              "      buttonEl.style.display =\n",
              "        google.colab.kernel.accessAllowed ? 'block' : 'none';\n",
              "\n",
              "      async function convertToInteractive(key) {\n",
              "        const element = document.querySelector('#df-a94f85c4-f2a3-467c-bdea-38b48eb20eee');\n",
              "        const dataTable =\n",
              "          await google.colab.kernel.invokeFunction('convertToInteractive',\n",
              "                                                    [key], {});\n",
              "        if (!dataTable) return;\n",
              "\n",
              "        const docLinkHtml = 'Like what you see? Visit the ' +\n",
              "          '<a target=\"_blank\" href=https://colab.research.google.com/notebooks/data_table.ipynb>data table notebook</a>'\n",
              "          + ' to learn more about interactive tables.';\n",
              "        element.innerHTML = '';\n",
              "        dataTable['output_type'] = 'display_data';\n",
              "        await google.colab.output.renderOutput(dataTable, element);\n",
              "        const docLink = document.createElement('div');\n",
              "        docLink.innerHTML = docLinkHtml;\n",
              "        element.appendChild(docLink);\n",
              "      }\n",
              "    </script>\n",
              "  </div>\n",
              "\n",
              "\n",
              "<div id=\"df-03712514-a537-4dc1-9867-0d0a970e8eae\">\n",
              "  <button class=\"colab-df-quickchart\" onclick=\"quickchart('df-03712514-a537-4dc1-9867-0d0a970e8eae')\"\n",
              "            title=\"Suggest charts\"\n",
              "            style=\"display:none;\">\n",
              "\n",
              "<svg xmlns=\"http://www.w3.org/2000/svg\" height=\"24px\"viewBox=\"0 0 24 24\"\n",
              "     width=\"24px\">\n",
              "    <g>\n",
              "        <path d=\"M19 3H5c-1.1 0-2 .9-2 2v14c0 1.1.9 2 2 2h14c1.1 0 2-.9 2-2V5c0-1.1-.9-2-2-2zM9 17H7v-7h2v7zm4 0h-2V7h2v10zm4 0h-2v-4h2v4z\"/>\n",
              "    </g>\n",
              "</svg>\n",
              "  </button>\n",
              "\n",
              "<style>\n",
              "  .colab-df-quickchart {\n",
              "      --bg-color: #E8F0FE;\n",
              "      --fill-color: #1967D2;\n",
              "      --hover-bg-color: #E2EBFA;\n",
              "      --hover-fill-color: #174EA6;\n",
              "      --disabled-fill-color: #AAA;\n",
              "      --disabled-bg-color: #DDD;\n",
              "  }\n",
              "\n",
              "  [theme=dark] .colab-df-quickchart {\n",
              "      --bg-color: #3B4455;\n",
              "      --fill-color: #D2E3FC;\n",
              "      --hover-bg-color: #434B5C;\n",
              "      --hover-fill-color: #FFFFFF;\n",
              "      --disabled-bg-color: #3B4455;\n",
              "      --disabled-fill-color: #666;\n",
              "  }\n",
              "\n",
              "  .colab-df-quickchart {\n",
              "    background-color: var(--bg-color);\n",
              "    border: none;\n",
              "    border-radius: 50%;\n",
              "    cursor: pointer;\n",
              "    display: none;\n",
              "    fill: var(--fill-color);\n",
              "    height: 32px;\n",
              "    padding: 0;\n",
              "    width: 32px;\n",
              "  }\n",
              "\n",
              "  .colab-df-quickchart:hover {\n",
              "    background-color: var(--hover-bg-color);\n",
              "    box-shadow: 0 1px 2px rgba(60, 64, 67, 0.3), 0 1px 3px 1px rgba(60, 64, 67, 0.15);\n",
              "    fill: var(--button-hover-fill-color);\n",
              "  }\n",
              "\n",
              "  .colab-df-quickchart-complete:disabled,\n",
              "  .colab-df-quickchart-complete:disabled:hover {\n",
              "    background-color: var(--disabled-bg-color);\n",
              "    fill: var(--disabled-fill-color);\n",
              "    box-shadow: none;\n",
              "  }\n",
              "\n",
              "  .colab-df-spinner {\n",
              "    border: 2px solid var(--fill-color);\n",
              "    border-color: transparent;\n",
              "    border-bottom-color: var(--fill-color);\n",
              "    animation:\n",
              "      spin 1s steps(1) infinite;\n",
              "  }\n",
              "\n",
              "  @keyframes spin {\n",
              "    0% {\n",
              "      border-color: transparent;\n",
              "      border-bottom-color: var(--fill-color);\n",
              "      border-left-color: var(--fill-color);\n",
              "    }\n",
              "    20% {\n",
              "      border-color: transparent;\n",
              "      border-left-color: var(--fill-color);\n",
              "      border-top-color: var(--fill-color);\n",
              "    }\n",
              "    30% {\n",
              "      border-color: transparent;\n",
              "      border-left-color: var(--fill-color);\n",
              "      border-top-color: var(--fill-color);\n",
              "      border-right-color: var(--fill-color);\n",
              "    }\n",
              "    40% {\n",
              "      border-color: transparent;\n",
              "      border-right-color: var(--fill-color);\n",
              "      border-top-color: var(--fill-color);\n",
              "    }\n",
              "    60% {\n",
              "      border-color: transparent;\n",
              "      border-right-color: var(--fill-color);\n",
              "    }\n",
              "    80% {\n",
              "      border-color: transparent;\n",
              "      border-right-color: var(--fill-color);\n",
              "      border-bottom-color: var(--fill-color);\n",
              "    }\n",
              "    90% {\n",
              "      border-color: transparent;\n",
              "      border-bottom-color: var(--fill-color);\n",
              "    }\n",
              "  }\n",
              "</style>\n",
              "\n",
              "  <script>\n",
              "    async function quickchart(key) {\n",
              "      const quickchartButtonEl =\n",
              "        document.querySelector('#' + key + ' button');\n",
              "      quickchartButtonEl.disabled = true;  // To prevent multiple clicks.\n",
              "      quickchartButtonEl.classList.add('colab-df-spinner');\n",
              "      try {\n",
              "        const charts = await google.colab.kernel.invokeFunction(\n",
              "            'suggestCharts', [key], {});\n",
              "      } catch (error) {\n",
              "        console.error('Error during call to suggestCharts:', error);\n",
              "      }\n",
              "      quickchartButtonEl.classList.remove('colab-df-spinner');\n",
              "      quickchartButtonEl.classList.add('colab-df-quickchart-complete');\n",
              "    }\n",
              "    (() => {\n",
              "      let quickchartButtonEl =\n",
              "        document.querySelector('#df-03712514-a537-4dc1-9867-0d0a970e8eae button');\n",
              "      quickchartButtonEl.style.display =\n",
              "        google.colab.kernel.accessAllowed ? 'block' : 'none';\n",
              "    })();\n",
              "  </script>\n",
              "</div>\n",
              "\n",
              "  <div id=\"id_bb205bed-4220-41ab-9063-7405fb298e04\">\n",
              "    <style>\n",
              "      .colab-df-generate {\n",
              "        background-color: #E8F0FE;\n",
              "        border: none;\n",
              "        border-radius: 50%;\n",
              "        cursor: pointer;\n",
              "        display: none;\n",
              "        fill: #1967D2;\n",
              "        height: 32px;\n",
              "        padding: 0 0 0 0;\n",
              "        width: 32px;\n",
              "      }\n",
              "\n",
              "      .colab-df-generate:hover {\n",
              "        background-color: #E2EBFA;\n",
              "        box-shadow: 0px 1px 2px rgba(60, 64, 67, 0.3), 0px 1px 3px 1px rgba(60, 64, 67, 0.15);\n",
              "        fill: #174EA6;\n",
              "      }\n",
              "\n",
              "      [theme=dark] .colab-df-generate {\n",
              "        background-color: #3B4455;\n",
              "        fill: #D2E3FC;\n",
              "      }\n",
              "\n",
              "      [theme=dark] .colab-df-generate:hover {\n",
              "        background-color: #434B5C;\n",
              "        box-shadow: 0px 1px 3px 1px rgba(0, 0, 0, 0.15);\n",
              "        filter: drop-shadow(0px 1px 2px rgba(0, 0, 0, 0.3));\n",
              "        fill: #FFFFFF;\n",
              "      }\n",
              "    </style>\n",
              "    <button class=\"colab-df-generate\" onclick=\"generateWithVariable('df')\"\n",
              "            title=\"Generate code using this dataframe.\"\n",
              "            style=\"display:none;\">\n",
              "\n",
              "  <svg xmlns=\"http://www.w3.org/2000/svg\" height=\"24px\"viewBox=\"0 0 24 24\"\n",
              "       width=\"24px\">\n",
              "    <path d=\"M7,19H8.4L18.45,9,17,7.55,7,17.6ZM5,21V16.75L18.45,3.32a2,2,0,0,1,2.83,0l1.4,1.43a1.91,1.91,0,0,1,.58,1.4,1.91,1.91,0,0,1-.58,1.4L9.25,21ZM18.45,9,17,7.55Zm-12,3A5.31,5.31,0,0,0,4.9,8.1,5.31,5.31,0,0,0,1,6.5,5.31,5.31,0,0,0,4.9,4.9,5.31,5.31,0,0,0,6.5,1,5.31,5.31,0,0,0,8.1,4.9,5.31,5.31,0,0,0,12,6.5,5.46,5.46,0,0,0,6.5,12Z\"/>\n",
              "  </svg>\n",
              "    </button>\n",
              "    <script>\n",
              "      (() => {\n",
              "      const buttonEl =\n",
              "        document.querySelector('#id_bb205bed-4220-41ab-9063-7405fb298e04 button.colab-df-generate');\n",
              "      buttonEl.style.display =\n",
              "        google.colab.kernel.accessAllowed ? 'block' : 'none';\n",
              "\n",
              "      buttonEl.onclick = () => {\n",
              "        google.colab.notebook.generateWithVariable('df');\n",
              "      }\n",
              "      })();\n",
              "    </script>\n",
              "  </div>\n",
              "\n",
              "    </div>\n",
              "  </div>\n"
            ],
            "application/vnd.google.colaboratory.intrinsic+json": {
              "type": "dataframe",
              "variable_name": "df",
              "summary": "{\n  \"name\": \"df\",\n  \"rows\": 6,\n  \"fields\": [\n    {\n      \"column\": \"name\",\n      \"properties\": {\n        \"dtype\": \"object\",\n        \"semantic_type\": \"\",\n        \"description\": \"\"\n      }\n    },\n    {\n      \"column\": \"designation\",\n      \"properties\": {\n        \"dtype\": \"object\",\n        \"semantic_type\": \"\",\n        \"description\": \"\"\n      }\n    },\n    {\n      \"column\": \"contact\",\n      \"properties\": {\n        \"dtype\": \"object\",\n        \"semantic_type\": \"\",\n        \"description\": \"\"\n      }\n    },\n    {\n      \"column\": \"email\",\n      \"properties\": {\n        \"dtype\": \"object\",\n        \"semantic_type\": \"\",\n        \"description\": \"\"\n      }\n    },\n    {\n      \"column\": \"website\",\n      \"properties\": {\n        \"dtype\": \"object\",\n        \"semantic_type\": \"\",\n        \"description\": \"\"\n      }\n    },\n    {\n      \"column\": \"street\",\n      \"properties\": {\n        \"dtype\": \"object\",\n        \"semantic_type\": \"\",\n        \"description\": \"\"\n      }\n    },\n    {\n      \"column\": \"city\",\n      \"properties\": {\n        \"dtype\": \"object\",\n        \"semantic_type\": \"\",\n        \"description\": \"\"\n      }\n    },\n    {\n      \"column\": \"state\",\n      \"properties\": {\n        \"dtype\": \"object\",\n        \"semantic_type\": \"\",\n        \"description\": \"\"\n      }\n    },\n    {\n      \"column\": \"pincode\",\n      \"properties\": {\n        \"dtype\": \"object\",\n        \"semantic_type\": \"\",\n        \"description\": \"\"\n      }\n    },\n    {\n      \"column\": \"company\",\n      \"properties\": {\n        \"dtype\": \"object\",\n        \"semantic_type\": \"\",\n        \"description\": \"\"\n      }\n    }\n  ]\n}"
            }
          },
          "metadata": {},
          "execution_count": 67
        }
      ]
    }
  ]
}